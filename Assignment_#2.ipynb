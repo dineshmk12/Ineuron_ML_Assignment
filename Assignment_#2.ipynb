{
 "cells": [
  {
   "cell_type": "markdown",
   "metadata": {},
   "source": [
    "# Assignment 2"
   ]
  },
  {
   "cell_type": "markdown",
   "metadata": {},
   "source": [
    "# Task 1"
   ]
  },
  {
   "cell_type": "markdown",
   "metadata": {},
   "source": [
    "Question 1.1:\n",
    "Write a Python Program to implement your own myreduce() function which works exactly like\n",
    "Python's built-in function reduce()"
   ]
  },
  {
   "cell_type": "code",
   "execution_count": 30,
   "metadata": {},
   "outputs": [
    {
     "name": "stdout",
     "output_type": "stream",
     "text": [
      "22\n"
     ]
    }
   ],
   "source": [
    "import operator\n",
    "\n",
    "def myreduce(fname, col, init=None):\n",
    "        c = iter(col)\n",
    "        if init is None:\n",
    "            val = next(c)\n",
    "        else:\n",
    "            val = init\n",
    "        for element in c:\n",
    "            val = fname(val, element)\n",
    "        return val\n",
    "    \n",
    "lis = [ 1, 3, 4, 10, 4 ]     \n",
    "print (myreduce(operator.add,lis))\n"
   ]
  },
  {
   "cell_type": "markdown",
   "metadata": {},
   "source": [
    "Question 1.2:\n",
    "Write a Python program to implement your own myfilter() function which works exactly like\n",
    "Python's built-in function filter()"
   ]
  },
  {
   "cell_type": "code",
   "execution_count": 17,
   "metadata": {},
   "outputs": [
    {
     "data": {
      "text/plain": [
       "[4, 10, 4]"
      ]
     },
     "execution_count": 17,
     "metadata": {},
     "output_type": "execute_result"
    }
   ],
   "source": [
    "def myfilter(fname,col):\n",
    "    mylis = []\n",
    "    for x in col:\n",
    "        if fname(x) == True:\n",
    "            mylis.append(x)\n",
    "    return mylis        \n",
    "\n",
    "lis = [ 1, 3, 4, 10, 4 ]     \n",
    "result = myfilter(lambda x: x % 2 == 0, lis)\n",
    "result"
   ]
  },
  {
   "cell_type": "raw",
   "metadata": {},
   "source": [
    "Question 2:\n",
    "Implement List comprehensions to produce the following lists.\n",
    "Write List comprehensions to produce the following Lists\n",
    "['A', 'C', 'A', 'D', 'G', 'I', ’L’, ‘ D’]\n",
    "['x', 'xx', 'xxx', 'xxxx', 'y', 'yy', 'yyy', 'yyyy', 'z', 'zz', 'zzz', 'zzzz']\n",
    "['x', 'y', 'z', 'xx', 'yy', 'zz', 'xx', 'yy', 'zz', 'xxxx', 'yyyy', 'zzzz']\n",
    "[[2], [3], [4], [3], [4], [5], [4], [5], [6]]\n",
    "[[2, 3, 4, 5], [3, 4, 5, 6], [4, 5, 6, 7], [5, 6, 7, 8]]\n",
    "[(1, 1), (2, 1), (3, 1), (1, 2), (2, 2), (3, 2), (1, 3), (2, 3), (3, 3)]\n"
   ]
  },
  {
   "cell_type": "code",
   "execution_count": 23,
   "metadata": {},
   "outputs": [
    {
     "name": "stdout",
     "output_type": "stream",
     "text": [
      "['A', 'C', 'A', 'D', 'G', 'I', 'L', 'D']\n",
      "['x', 'xx', 'xxx', 'xxxx', 'y', 'yy', 'yyy', 'yyyy', 'z', 'zz', 'zzz', 'zzzz']\n",
      "['x', 'y', 'z', 'xx', 'yy', 'zz', 'xxx', 'yyy', 'zzz', 'xxxx', 'yyyy', 'zzzz']\n",
      "[[2], [3], [4], [3], [4], [5], [4], [5], [6]]\n",
      "[[2, 3, 4, 5], [3, 4, 5, 6], [4, 5, 6, 7], [5, 6, 7, 8]]\n",
      "[(1, 1), (2, 1), (3, 1), (1, 2), (2, 2), (3, 2), (1, 3), (2, 3), (3, 3)]\n"
     ]
    }
   ],
   "source": [
    "str1 = 'ACADGILD'\n",
    "list1 = [x for x in str1]\n",
    "print(list1)\n",
    "\n",
    "str2 = 'xyz'\n",
    "list2 = [i*(j+1) for i in str2 for j in range(4)]\n",
    "print(list2)\n",
    "\n",
    "str3 = 'xyz'\n",
    "list3 = [j*(i+1) for i in range(4) for j in str3]\n",
    "print(list3)\n",
    "\n",
    "list4 = [[j] for i in range(2,5) for j in range(i,i+3)]\n",
    "print(list4)\n",
    "\n",
    "list5=[[j for j in range(i,i+4)] for i in range(2,6)]\n",
    "print(list5)\n",
    "\n",
    "list6=[(j,i)for i in range(1,4) for j in range(1,4)]\n",
    "print(list6)"
   ]
  },
  {
   "cell_type": "markdown",
   "metadata": {},
   "source": [
    "# Task 2"
   ]
  },
  {
   "cell_type": "raw",
   "metadata": {},
   "source": [
    "Question 1.1:\n",
    "Write a Python Program(with class concepts) to find the area of the triangle using the below\n",
    "formula.\n",
    "area = (s*(s-a)*(s-b)*(s-c)) ** 0.5\n",
    "Function to take the length of the sides of triangle from user should be defined in the parent\n",
    "class and function to calculate the area should be defined in subclass."
   ]
  },
  {
   "cell_type": "code",
   "execution_count": 7,
   "metadata": {},
   "outputs": [
    {
     "name": "stdout",
     "output_type": "stream",
     "text": [
      "Enter the 3 lenghs conitinuosly like '11 12 13'\n",
      "Enter 3 length's of triangle: 20 20 10\n",
      "Area of the Triangle: 96.82458365518542\n"
     ]
    }
   ],
   "source": [
    "class pArea():\n",
    "    def __init__(self,SideA,SideB,SideC):\n",
    "        self.SideA = SideA\n",
    "        self.SideB = SideB\n",
    "        self.SideC = SideC\n",
    "        \n",
    "    @classmethod    \n",
    "    def getLength(cls):\n",
    "        print(\"Enter the 3 sides of lenghs conitinuosly like '11 12 13'\")\n",
    "        while True:\n",
    "            sideAll = input(\"Enter 3 length's of triangle: \")\n",
    "            if len(sideAll.split()) == 3:\n",
    "                sideA,sideB,sideC = sideAll.split()     \n",
    "                break\n",
    "            else:\n",
    "                print(\"Invalid input\")\n",
    "                continue\n",
    "        return cls(int(sideA),int(sideB),int(sideC))\n",
    "\n",
    "class cArea(pArea):\n",
    "    \n",
    "    def getArea(self):\n",
    "        self.perim = (self.SideA + self.SideB + self.SideC)/2\n",
    "        self.area = (self.perim*(self.perim-self.SideA)*(self.perim-self.SideB)*(self.perim-self.SideC)) ** 0.5\n",
    "        return self.area\n",
    "        \n",
    "        \n",
    "dk = cArea.getLength()\n",
    "print(\"Area of the Triangle: {}\".format(dk.getArea()))\n",
    "#print(dk.SideA)\n",
    "\n",
    "\n"
   ]
  },
  {
   "cell_type": "raw",
   "metadata": {},
   "source": [
    "Question 1.2:\n",
    "Write a function filter_long_words() that takes a list of words and an integer n and returns the list\n",
    "of words that are longer than n."
   ]
  },
  {
   "cell_type": "code",
   "execution_count": 10,
   "metadata": {},
   "outputs": [
    {
     "data": {
      "text/plain": [
       "['vignesh', 'dinesh']"
      ]
     },
     "execution_count": 10,
     "metadata": {},
     "output_type": "execute_result"
    }
   ],
   "source": [
    "def filter_long_words(lis,n):\n",
    "    list1 = [l for l in lis if len(l)>n]\n",
    "    return list1\n",
    "\n",
    "lis = ['vignesh','dinesh','kumar','hari','ram']\n",
    "filter_long_words(lis,5)"
   ]
  },
  {
   "cell_type": "raw",
   "metadata": {},
   "source": [
    "Question 2.1:\n",
    "Write a Python program using function concept that maps list of words into a list of integers\n",
    "representing the lengths of the corresponding words.\n",
    "Hint: If a list [ ab,cde,erty] is passed on to the python function output should come as [2,3,4]\n",
    "Here 2,3 and 4 are the lengths of the words in the list"
   ]
  },
  {
   "cell_type": "code",
   "execution_count": 14,
   "metadata": {},
   "outputs": [
    {
     "data": {
      "text/plain": [
       "[7, 6, 5, 4, 3]"
      ]
     },
     "execution_count": 14,
     "metadata": {},
     "output_type": "execute_result"
    }
   ],
   "source": [
    "def convert_len_words(lis):\n",
    "    list1 = [len(l) for l in lis]\n",
    "    return list1\n",
    "\n",
    "lis = ['vignesh','dinesh','kumar','hari','ram']    \n",
    "convert_len_words(lis)"
   ]
  },
  {
   "cell_type": "raw",
   "metadata": {},
   "source": [
    "Question 2.2:\n",
    "Write a Python function which takes a character (i.e. a string of length 1) and returns True if it is\n",
    "a vowel, False otherwise."
   ]
  },
  {
   "cell_type": "code",
   "execution_count": 20,
   "metadata": {},
   "outputs": [
    {
     "data": {
      "text/plain": [
       "True"
      ]
     },
     "execution_count": 20,
     "metadata": {},
     "output_type": "execute_result"
    }
   ],
   "source": [
    "def chkvow(let):\n",
    "    lis = ['a','e','i','o','u']\n",
    "    if let in lis:\n",
    "        return True\n",
    "    else:\n",
    "        return False\n",
    "chkvow('a')    "
   ]
  },
  {
   "cell_type": "code",
   "execution_count": null,
   "metadata": {},
   "outputs": [],
   "source": []
  }
 ],
 "metadata": {
  "kernelspec": {
   "display_name": "Python 3",
   "language": "python",
   "name": "python3"
  },
  "language_info": {
   "codemirror_mode": {
    "name": "ipython",
    "version": 3
   },
   "file_extension": ".py",
   "mimetype": "text/x-python",
   "name": "python",
   "nbconvert_exporter": "python",
   "pygments_lexer": "ipython3",
   "version": "3.7.4"
  }
 },
 "nbformat": 4,
 "nbformat_minor": 2
}
